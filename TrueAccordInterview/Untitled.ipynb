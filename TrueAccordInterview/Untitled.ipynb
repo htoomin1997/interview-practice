{
 "cells": [
  {
   "cell_type": "code",
   "execution_count": 4,
   "metadata": {},
   "outputs": [],
   "source": [
    "import requests as reqs\n",
    "import json\n",
    "import pandas as pd"
   ]
  },
  {
   "cell_type": "code",
   "execution_count": 5,
   "metadata": {},
   "outputs": [],
   "source": [
    "def dataIntialization():\n",
    "    #On 4/1/2021 was taking a while to complete the response...\n",
    "    #payment plans request would sometimes time out!\n",
    "    try:\n",
    "        debtRequest = reqs.get(\"https://my-json-server.typicode.com/druska/trueaccord-mock-payments-api/debts\")\n",
    "        debt_dict = json.loads(debtRequest.text)\n",
    "        debts_df = pd.DataFrame.from_dict(debt_dict)\n",
    "        \n",
    "        print(\"request 1 completed\")\n",
    "\n",
    "        plansReq = reqs.get(\"https://my-json-server.typicode.com/druska/trueaccord-mock-payments-api/payment_plans\")\n",
    "        payment_plans = json.loads(plansReq.text)\n",
    "        plans_df = pd.DataFrame.from_dict(payment_plans)\n",
    "\n",
    "        print(\"request 2 completed\")\n",
    "\n",
    "        paymentsReq = reqs.get(\"https://my-json-server.typicode.com/druska/trueaccord-mock-payments-api/payments\")\n",
    "        payments = json.loads(paymentsReq.text)\n",
    "        payment_df = pd.DataFrame.from_dict(payments)\n",
    "\n",
    "        print(\"request 3 completed\")\n",
    "\n",
    "        return (debts_df, plans_df, payment_df)\n",
    " \n",
    "    except:\n",
    "        print(\"error?\")"
   ]
  },
  {
   "cell_type": "code",
   "execution_count": 11,
   "metadata": {},
   "outputs": [],
   "source": [
    "def isEnrolled(debt_df, plan_df):\n",
    "    isEnrolled = []\n",
    "    paymentPlan_id = []\n",
    "\n",
    "    for x in debt_df['id']:\n",
    "        isEnrolled.append(True) if (x in plan_df['debt_id']) else isEnrolled.append(False)\n",
    "        paymentPlan_id.append(plan_df['id']);\n",
    "\n",
    "#     debt_df[\"plan_id\"] = paymentPlan_id\n",
    "    print(paymentPlan_id)\n",
    "    debt_df[\"is_in_payment_plan\"] = isEnrolled\n",
    "    \n",
    "    return debt_df\n"
   ]
  },
  {
   "cell_type": "code",
   "execution_count": 7,
   "metadata": {},
   "outputs": [],
   "source": [
    "#So if they are enrolled in a payment plan, instead of using the payments, just use the payment plan amount?\n",
    "def remainingAmount(debt_df, plan_df, payment_df):\n",
    "    plan_dict = {}\n",
    "    for index, row in plan_df.iterrows():\n",
    "        if (row['id'] in plan_dict):\n",
    "            plan_dict[row['id']] += row['amount_to_pay']\n",
    "        else:\n",
    "            plan_dict[row['id']] = row['amount_to_pay']\n",
    "\n",
    "    payments_dict = {}\n",
    "    for index, row in payment_df.iterrows():\n",
    "        if (row['id'] in plan_dict):\n",
    "            plan_dict[row['id']] += row['amount_to_pay']\n",
    "        else:\n",
    "            plan_dict[row['id']] = row['amount_to_pay']\n",
    "\n",
    "    for index, row in debt_df.iterrows():\n",
    "        if (row['is_in_payment_plan'] == True):\n",
    "            targetId = row['id']\n",
    "        else:\n",
    "            pass"
   ]
  },
  {
   "cell_type": "code",
   "execution_count": 10,
   "metadata": {},
   "outputs": [
    {
     "name": "stdout",
     "output_type": "stream",
     "text": [
      "request 1 completed\n",
      "request 2 completed\n",
      "request 3 completed\n",
      "     amount  id  is_in_payment_plan\n",
      "0    123.46   0                True\n",
      "1    100.00   1                True\n",
      "2   4920.34   2                True\n",
      "3  12938.00   3                True\n",
      "4   9238.02   4               False\n",
      "requests didn't load in\n"
     ]
    }
   ],
   "source": [
    "def main():\n",
    "    try:\n",
    "        debts, plans, payments = dataIntialization()\n",
    "        debts = isEnrolled(debts, plans)\n",
    "        print(debts)\n",
    "        remainingAmount(debts, plans, payments)\n",
    "    except:\n",
    "        print(\"requests didn't load in\")\n",
    "\n",
    "main()"
   ]
  },
  {
   "cell_type": "code",
   "execution_count": null,
   "metadata": {},
   "outputs": [],
   "source": []
  }
 ],
 "metadata": {
  "kernelspec": {
   "display_name": "Python 3",
   "language": "python",
   "name": "python3"
  },
  "language_info": {
   "codemirror_mode": {
    "name": "ipython",
    "version": 3
   },
   "file_extension": ".py",
   "mimetype": "text/x-python",
   "name": "python",
   "nbconvert_exporter": "python",
   "pygments_lexer": "ipython3",
   "version": "3.6.4"
  }
 },
 "nbformat": 4,
 "nbformat_minor": 2
}
